{
 "cells": [
  {
   "cell_type": "code",
   "execution_count": 16,
   "metadata": {},
   "outputs": [],
   "source": [
    "import pandas as pd\n",
    "import yfinance as yf\n",
    "import datetime\n",
    "import time\n",
    "import requests\n",
    "import io"
   ]
  },
  {
   "cell_type": "code",
   "execution_count": 18,
   "metadata": {},
   "outputs": [],
   "source": [
    "# Input Start and End Date\n",
    "start = datetime.datetime(2024,2,1)\n",
    "end = datetime.datetime(2024,8,14)"
   ]
  },
  {
   "cell_type": "code",
   "execution_count": 19,
   "metadata": {},
   "outputs": [],
   "source": [
    "url=\"https://pkgstore.datahub.io/core/nasdaq-listings/nasdaq-listed_csv/data/7665719fb51081ba0bd834fde71ce822/nasdaq-listed_csv.csv\"\n",
    "s = requests.get(url).content\n",
    "companies = pd.read_csv(io.StringIO(s.decode('utf-8')))"
   ]
  },
  {
   "cell_type": "code",
   "execution_count": 20,
   "metadata": {},
   "outputs": [
    {
     "data": {
      "text/html": [
       "<div>\n",
       "<style scoped>\n",
       "    .dataframe tbody tr th:only-of-type {\n",
       "        vertical-align: middle;\n",
       "    }\n",
       "\n",
       "    .dataframe tbody tr th {\n",
       "        vertical-align: top;\n",
       "    }\n",
       "\n",
       "    .dataframe thead th {\n",
       "        text-align: right;\n",
       "    }\n",
       "</style>\n",
       "<table border=\"1\" class=\"dataframe\">\n",
       "  <thead>\n",
       "    <tr style=\"text-align: right;\">\n",
       "      <th></th>\n",
       "      <th>Symbol</th>\n",
       "      <th>Company Name</th>\n",
       "      <th>Security Name</th>\n",
       "      <th>Market Category</th>\n",
       "      <th>Test Issue</th>\n",
       "      <th>Financial Status</th>\n",
       "      <th>Round Lot Size</th>\n",
       "    </tr>\n",
       "  </thead>\n",
       "  <tbody>\n",
       "    <tr>\n",
       "      <th>0</th>\n",
       "      <td>AAIT</td>\n",
       "      <td>iShares MSCI All Country Asia Information Tech...</td>\n",
       "      <td>iShares MSCI All Country Asia Information Tech...</td>\n",
       "      <td>G</td>\n",
       "      <td>N</td>\n",
       "      <td>N</td>\n",
       "      <td>100.0</td>\n",
       "    </tr>\n",
       "    <tr>\n",
       "      <th>1</th>\n",
       "      <td>AAL</td>\n",
       "      <td>American Airlines Group, Inc.</td>\n",
       "      <td>American Airlines Group, Inc. - Common Stock</td>\n",
       "      <td>Q</td>\n",
       "      <td>N</td>\n",
       "      <td>N</td>\n",
       "      <td>100.0</td>\n",
       "    </tr>\n",
       "    <tr>\n",
       "      <th>2</th>\n",
       "      <td>AAME</td>\n",
       "      <td>Atlantic American Corporation</td>\n",
       "      <td>Atlantic American Corporation - Common Stock</td>\n",
       "      <td>G</td>\n",
       "      <td>N</td>\n",
       "      <td>N</td>\n",
       "      <td>100.0</td>\n",
       "    </tr>\n",
       "    <tr>\n",
       "      <th>3</th>\n",
       "      <td>AAOI</td>\n",
       "      <td>Applied Optoelectronics, Inc.</td>\n",
       "      <td>Applied Optoelectronics, Inc. - Common Stock</td>\n",
       "      <td>G</td>\n",
       "      <td>N</td>\n",
       "      <td>N</td>\n",
       "      <td>100.0</td>\n",
       "    </tr>\n",
       "    <tr>\n",
       "      <th>4</th>\n",
       "      <td>AAON</td>\n",
       "      <td>AAON, Inc.</td>\n",
       "      <td>AAON, Inc. - Common Stock</td>\n",
       "      <td>Q</td>\n",
       "      <td>N</td>\n",
       "      <td>N</td>\n",
       "      <td>100.0</td>\n",
       "    </tr>\n",
       "  </tbody>\n",
       "</table>\n",
       "</div>"
      ],
      "text/plain": [
       "  Symbol                                       Company Name  \\\n",
       "0   AAIT  iShares MSCI All Country Asia Information Tech...   \n",
       "1    AAL                      American Airlines Group, Inc.   \n",
       "2   AAME                      Atlantic American Corporation   \n",
       "3   AAOI                      Applied Optoelectronics, Inc.   \n",
       "4   AAON                                         AAON, Inc.   \n",
       "\n",
       "                                       Security Name Market Category  \\\n",
       "0  iShares MSCI All Country Asia Information Tech...               G   \n",
       "1       American Airlines Group, Inc. - Common Stock               Q   \n",
       "2       Atlantic American Corporation - Common Stock               G   \n",
       "3       Applied Optoelectronics, Inc. - Common Stock               G   \n",
       "4                          AAON, Inc. - Common Stock               Q   \n",
       "\n",
       "  Test Issue Financial Status  Round Lot Size  \n",
       "0          N                N           100.0  \n",
       "1          N                N           100.0  \n",
       "2          N                N           100.0  \n",
       "3          N                N           100.0  \n",
       "4          N                N           100.0  "
      ]
     },
     "execution_count": 20,
     "metadata": {},
     "output_type": "execute_result"
    }
   ],
   "source": [
    "companies.head()"
   ]
  },
  {
   "cell_type": "code",
   "execution_count": 21,
   "metadata": {},
   "outputs": [],
   "source": [
    "Symbols = companies['Symbol'].tolist()"
   ]
  },
  {
   "cell_type": "code",
   "execution_count": 22,
   "metadata": {},
   "outputs": [
    {
     "data": {
      "text/plain": [
       "['AAIT', 'AAL', 'AAME', 'AAOI', 'AAON', 'AAPL', 'AAVL', 'AAWW', 'AAXJ', 'ABAC']"
      ]
     },
     "execution_count": 22,
     "metadata": {},
     "output_type": "execute_result"
    }
   ],
   "source": [
    "Symbols[0:10]"
   ]
  },
  {
   "cell_type": "code",
   "execution_count": 23,
   "metadata": {
    "scrolled": true
   },
   "outputs": [
    {
     "name": "stdout",
     "output_type": "stream",
     "text": [
      "0 : AAIT,"
     ]
    },
    {
     "name": "stderr",
     "output_type": "stream",
     "text": [
      "\n",
      "1 Failed download:\n",
      "['AAIT']: YFPricesMissingError('$%ticker%: possibly delisted; No price data found  (1d 2024-02-01 00:00:00 -> 2024-08-14 00:00:00)')\n"
     ]
    },
    {
     "name": "stdout",
     "output_type": "stream",
     "text": [
      "$AAIT: possibly delisted; No price data found  (1d 2024-02-01 00:00:00 -> 2024-08-14 00:00:00)\n",
      "Data for AAIT is empty.\n",
      "1 : AAL,2 : AAME,3 : AAOI,4 : AAON,5 : AAPL,6 : AAVL,"
     ]
    },
    {
     "name": "stderr",
     "output_type": "stream",
     "text": [
      "\n",
      "1 Failed download:\n",
      "['AAVL']: YFPricesMissingError('$%ticker%: possibly delisted; No price data found  (1d 2024-02-01 00:00:00 -> 2024-08-14 00:00:00)')\n"
     ]
    },
    {
     "name": "stdout",
     "output_type": "stream",
     "text": [
      "$AAVL: possibly delisted; No price data found  (1d 2024-02-01 00:00:00 -> 2024-08-14 00:00:00)\n",
      "Data for AAVL is empty.\n",
      "7 : AAWW,"
     ]
    },
    {
     "name": "stderr",
     "output_type": "stream",
     "text": [
      "\n",
      "1 Failed download:\n",
      "['AAWW']: YFTzMissingError('$%ticker%: possibly delisted; No timezone found')\n"
     ]
    },
    {
     "name": "stdout",
     "output_type": "stream",
     "text": [
      "Data for AAWW is empty.\n",
      "8 : AAXJ,9 : ABAC,"
     ]
    },
    {
     "name": "stderr",
     "output_type": "stream",
     "text": [
      "\n",
      "1 Failed download:\n",
      "['ABAC']: YFPricesMissingError('$%ticker%: possibly delisted; No price data found  (1d 2024-02-01 00:00:00 -> 2024-08-14 00:00:00)')\n"
     ]
    },
    {
     "name": "stdout",
     "output_type": "stream",
     "text": [
      "$ABAC: possibly delisted; No price data found  (1d 2024-02-01 00:00:00 -> 2024-08-14 00:00:00)\n",
      "Data for ABAC is empty.\n",
      "10 : ABAX,"
     ]
    },
    {
     "name": "stderr",
     "output_type": "stream",
     "text": [
      "\n",
      "1 Failed download:\n",
      "['ABAX']: YFPricesMissingError('$%ticker%: possibly delisted; No price data found  (1d 2024-02-01 00:00:00 -> 2024-08-14 00:00:00)')\n"
     ]
    },
    {
     "name": "stdout",
     "output_type": "stream",
     "text": [
      "$ABAX: possibly delisted; No price data found  (1d 2024-02-01 00:00:00 -> 2024-08-14 00:00:00)\n",
      "Data for ABAX is empty.\n",
      "11 : ABCB,12 : ABCD,"
     ]
    },
    {
     "name": "stderr",
     "output_type": "stream",
     "text": [
      "\n",
      "1 Failed download:\n",
      "['ABCD']: YFPricesMissingError('$%ticker%: possibly delisted; No price data found  (1d 2024-02-01 00:00:00 -> 2024-08-14 00:00:00)')\n"
     ]
    },
    {
     "name": "stdout",
     "output_type": "stream",
     "text": [
      "$ABCD: possibly delisted; No price data found  (1d 2024-02-01 00:00:00 -> 2024-08-14 00:00:00)\n",
      "Data for ABCD is empty.\n",
      "13 : ABCO,$ABCO: possibly delisted; No price data found  (1d 2024-02-01 00:00:00 -> 2024-08-14 00:00:00)Data for ABCO is empty.\n",
      "14 : ABCW,"
     ]
    },
    {
     "name": "stderr",
     "output_type": "stream",
     "text": [
      "\n",
      "1 Failed download:\n",
      "['ABCW']: YFPricesMissingError('$%ticker%: possibly delisted; No price data found  (1d 2024-02-01 00:00:00 -> 2024-08-14 00:00:00)')\n"
     ]
    },
    {
     "name": "stdout",
     "output_type": "stream",
     "text": [
      "\n",
      "$ABCW: possibly delisted; No price data found  (1d 2024-02-01 00:00:00 -> 2024-08-14 00:00:00)\n",
      "Data for ABCW is empty.\n",
      "15 : ABDC,"
     ]
    },
    {
     "name": "stderr",
     "output_type": "stream",
     "text": [
      "\n",
      "1 Failed download:\n",
      "['ABDC']: YFTzMissingError('$%ticker%: possibly delisted; No timezone found')\n"
     ]
    },
    {
     "name": "stdout",
     "output_type": "stream",
     "text": [
      "Data for ABDC is empty.\n",
      "16 : ABGB,"
     ]
    },
    {
     "name": "stderr",
     "output_type": "stream",
     "text": [
      "\n",
      "1 Failed download:\n",
      "['ABGB']: YFPricesMissingError('$%ticker%: possibly delisted; No price data found  (1d 2024-02-01 00:00:00 -> 2024-08-14 00:00:00)')\n"
     ]
    },
    {
     "name": "stdout",
     "output_type": "stream",
     "text": [
      "$ABGB: possibly delisted; No price data found  (1d 2024-02-01 00:00:00 -> 2024-08-14 00:00:00)\n",
      "Data for ABGB is empty.\n",
      "17 : ABIO,18 : ABMD,"
     ]
    },
    {
     "name": "stderr",
     "output_type": "stream",
     "text": [
      "\n",
      "1 Failed download:\n",
      "['ABMD']: YFTzMissingError('$%ticker%: possibly delisted; No timezone found')\n"
     ]
    },
    {
     "name": "stdout",
     "output_type": "stream",
     "text": [
      "Data for ABMD is empty.\n",
      "19 : ABTL,"
     ]
    },
    {
     "name": "stderr",
     "output_type": "stream",
     "text": [
      "\n",
      "1 Failed download:\n",
      "['ABTL']: YFPricesMissingError('$%ticker%: possibly delisted; No price data found  (1d 2024-02-01 00:00:00 -> 2024-08-14 00:00:00)')\n"
     ]
    },
    {
     "name": "stdout",
     "output_type": "stream",
     "text": [
      "$ABTL: possibly delisted; No price data found  (1d 2024-02-01 00:00:00 -> 2024-08-14 00:00:00)\n",
      "Data for ABTL is empty.\n",
      "20 : ABY,"
     ]
    },
    {
     "name": "stderr",
     "output_type": "stream",
     "text": [
      "\n",
      "1 Failed download:\n",
      "['ABY']: YFPricesMissingError('$%ticker%: possibly delisted; No price data found  (1d 2024-02-01 00:00:00 -> 2024-08-14 00:00:00)')\n"
     ]
    },
    {
     "name": "stdout",
     "output_type": "stream",
     "text": [
      "$ABY: possibly delisted; No price data found  (1d 2024-02-01 00:00:00 -> 2024-08-14 00:00:00)\n",
      "Data for ABY is empty.\n",
      "21 : ACAD,22 : ACAS,"
     ]
    },
    {
     "name": "stderr",
     "output_type": "stream",
     "text": [
      "\n",
      "1 Failed download:\n",
      "['ACAS']: YFPricesMissingError('$%ticker%: possibly delisted; No price data found  (1d 2024-02-01 00:00:00 -> 2024-08-14 00:00:00)')\n"
     ]
    },
    {
     "name": "stdout",
     "output_type": "stream",
     "text": [
      "$ACAS: possibly delisted; No price data found  (1d 2024-02-01 00:00:00 -> 2024-08-14 00:00:00)\n",
      "Data for ACAS is empty.\n",
      "23 : ACAT,$ACAT: possibly delisted; No price data found  (1d 2024-02-01 00:00:00 -> 2024-08-14 00:00:00)\n"
     ]
    },
    {
     "name": "stderr",
     "output_type": "stream",
     "text": [
      "\n",
      "1 Failed download:\n",
      "['ACAT']: YFPricesMissingError('$%ticker%: possibly delisted; No price data found  (1d 2024-02-01 00:00:00 -> 2024-08-14 00:00:00)')\n"
     ]
    },
    {
     "name": "stdout",
     "output_type": "stream",
     "text": [
      "Data for ACAT is empty.\n",
      "24 : ACET,25 : ACFC,"
     ]
    },
    {
     "name": "stderr",
     "output_type": "stream",
     "text": [
      "\n",
      "1 Failed download:\n",
      "['ACFC']: YFPricesMissingError('$%ticker%: possibly delisted; No price data found  (1d 2024-02-01 00:00:00 -> 2024-08-14 00:00:00)')\n"
     ]
    },
    {
     "name": "stdout",
     "output_type": "stream",
     "text": [
      "$ACFC: possibly delisted; No price data found  (1d 2024-02-01 00:00:00 -> 2024-08-14 00:00:00)\n",
      "Data for ACFC is empty.\n",
      "26 : ACFN,27 : ACGL,28 : ACHC,29 : ACHN,"
     ]
    },
    {
     "name": "stderr",
     "output_type": "stream",
     "text": [
      "\n",
      "1 Failed download:\n",
      "['ACHN']: YFTzMissingError('$%ticker%: possibly delisted; No timezone found')\n"
     ]
    },
    {
     "name": "stdout",
     "output_type": "stream",
     "text": [
      "Data for ACHN is empty.\n",
      "30 : ACIW,31 : ACLS,32 : ACNB,33 : ACOR,"
     ]
    },
    {
     "name": "stderr",
     "output_type": "stream",
     "text": [
      "\n",
      "1 Failed download:\n",
      "['ACOR']: YFTzMissingError('$%ticker%: possibly delisted; No timezone found')\n"
     ]
    },
    {
     "name": "stdout",
     "output_type": "stream",
     "text": [
      "Data for ACOR is empty.\n",
      "34 : ACPW,"
     ]
    },
    {
     "name": "stderr",
     "output_type": "stream",
     "text": [
      "\n",
      "1 Failed download:\n",
      "['ACPW']: YFPricesMissingError('$%ticker%: possibly delisted; No price data found  (1d 2024-02-01 00:00:00 -> 2024-08-14 00:00:00)')\n"
     ]
    },
    {
     "name": "stdout",
     "output_type": "stream",
     "text": [
      "$ACPW: possibly delisted; No price data found  (1d 2024-02-01 00:00:00 -> 2024-08-14 00:00:00)\n",
      "Data for ACPW is empty.\n",
      "35 : ACRX,"
     ]
    },
    {
     "name": "stderr",
     "output_type": "stream",
     "text": [
      "\n",
      "1 Failed download:\n",
      "['ACRX']: YFTzMissingError('$%ticker%: possibly delisted; No timezone found')\n"
     ]
    },
    {
     "name": "stdout",
     "output_type": "stream",
     "text": [
      "Data for ACRX is empty.\n",
      "36 : ACSF,"
     ]
    },
    {
     "name": "stderr",
     "output_type": "stream",
     "text": [
      "\n",
      "1 Failed download:\n",
      "['ACSF']: YFTzMissingError('$%ticker%: possibly delisted; No timezone found')\n"
     ]
    },
    {
     "name": "stdout",
     "output_type": "stream",
     "text": [
      "Data for ACSF is empty.\n",
      "37 : ACST,38 : ACTA,"
     ]
    },
    {
     "name": "stderr",
     "output_type": "stream",
     "text": [
      "\n",
      "1 Failed download:\n",
      "['ACTA']: YFPricesMissingError('$%ticker%: possibly delisted; No price data found  (1d 2024-02-01 00:00:00 -> 2024-08-14 00:00:00)')\n"
     ]
    },
    {
     "name": "stdout",
     "output_type": "stream",
     "text": [
      "$ACTA: possibly delisted; No price data found  (1d 2024-02-01 00:00:00 -> 2024-08-14 00:00:00)\n",
      "Data for ACTA is empty.\n",
      "39 : ACTG,40 : ACTS,"
     ]
    },
    {
     "name": "stderr",
     "output_type": "stream",
     "text": [
      "\n",
      "1 Failed download:\n",
      "['ACTS']: YFPricesMissingError('$%ticker%: possibly delisted; No price data found  (1d 2024-02-01 00:00:00 -> 2024-08-14 00:00:00)')\n"
     ]
    },
    {
     "name": "stdout",
     "output_type": "stream",
     "text": [
      "$ACTS: possibly delisted; No price data found  (1d 2024-02-01 00:00:00 -> 2024-08-14 00:00:00)\n",
      "Data for ACTS is empty.\n",
      "41 : ACUR,42 : ACWI,43 : ACWX,44 : ACXM,"
     ]
    },
    {
     "name": "stderr",
     "output_type": "stream",
     "text": [
      "\n",
      "1 Failed download:\n",
      "['ACXM']: YFPricesMissingError('$%ticker%: possibly delisted; No price data found  (1d 2024-02-01 00:00:00 -> 2024-08-14 00:00:00)')\n"
     ]
    },
    {
     "name": "stdout",
     "output_type": "stream",
     "text": [
      "$ACXM: possibly delisted; No price data found  (1d 2024-02-01 00:00:00 -> 2024-08-14 00:00:00)\n",
      "Data for ACXM is empty.\n",
      "45 : ADAT,"
     ]
    },
    {
     "name": "stderr",
     "output_type": "stream",
     "text": [
      "\n",
      "1 Failed download:\n",
      "['ADAT']: YFPricesMissingError('$%ticker%: possibly delisted; No price data found  (1d 2024-02-01 00:00:00 -> 2024-08-14 00:00:00)')\n"
     ]
    },
    {
     "name": "stdout",
     "output_type": "stream",
     "text": [
      "$ADAT: possibly delisted; No price data found  (1d 2024-02-01 00:00:00 -> 2024-08-14 00:00:00)\n",
      "Data for ADAT is empty.\n",
      "46 : ADBE,47 : ADEP,"
     ]
    },
    {
     "name": "stderr",
     "output_type": "stream",
     "text": [
      "\n",
      "1 Failed download:\n",
      "['ADEP']: YFPricesMissingError('$%ticker%: possibly delisted; No price data found  (1d 2024-02-01 00:00:00 -> 2024-08-14 00:00:00)')\n"
     ]
    },
    {
     "name": "stdout",
     "output_type": "stream",
     "text": [
      "$ADEP: possibly delisted; No price data found  (1d 2024-02-01 00:00:00 -> 2024-08-14 00:00:00)\n",
      "Data for ADEP is empty.\n",
      "48 : ADES,"
     ]
    },
    {
     "ename": "KeyboardInterrupt",
     "evalue": "",
     "output_type": "error",
     "traceback": [
      "\u001b[0;31m---------------------------------------------------------------------------\u001b[0m",
      "\u001b[0;31mKeyboardInterrupt\u001b[0m                         Traceback (most recent call last)",
      "Cell \u001b[0;32mIn[23], line 10\u001b[0m\n\u001b[1;32m      6\u001b[0m \u001b[38;5;28mprint\u001b[39m(\u001b[38;5;124mf\u001b[39m\u001b[38;5;124m\"\u001b[39m\u001b[38;5;132;01m{\u001b[39;00midx\u001b[38;5;132;01m}\u001b[39;00m\u001b[38;5;124m : \u001b[39m\u001b[38;5;132;01m{\u001b[39;00msymbol\u001b[38;5;132;01m}\u001b[39;00m\u001b[38;5;124m\"\u001b[39m, sep\u001b[38;5;241m=\u001b[39m\u001b[38;5;124m'\u001b[39m\u001b[38;5;124m,\u001b[39m\u001b[38;5;124m'\u001b[39m, end\u001b[38;5;241m=\u001b[39m\u001b[38;5;124m'\u001b[39m\u001b[38;5;124m,\u001b[39m\u001b[38;5;124m'\u001b[39m, flush\u001b[38;5;241m=\u001b[39m\u001b[38;5;28;01mTrue\u001b[39;00m)  \n\u001b[1;32m      8\u001b[0m \u001b[38;5;28;01mtry\u001b[39;00m:\n\u001b[1;32m      9\u001b[0m     \u001b[38;5;66;03m# Download the stock price\u001b[39;00m\n\u001b[0;32m---> 10\u001b[0m     stock \u001b[38;5;241m=\u001b[39m yf\u001b[38;5;241m.\u001b[39mdownload(symbol, start\u001b[38;5;241m=\u001b[39mstart, end\u001b[38;5;241m=\u001b[39mend, progress\u001b[38;5;241m=\u001b[39m\u001b[38;5;28;01mFalse\u001b[39;00m)\n\u001b[1;32m     12\u001b[0m     \u001b[38;5;66;03m# Check if the stock data is not empty\u001b[39;00m\n\u001b[1;32m     13\u001b[0m     \u001b[38;5;28;01mif\u001b[39;00m \u001b[38;5;129;01mnot\u001b[39;00m stock\u001b[38;5;241m.\u001b[39mempty:\n",
      "File \u001b[0;32m~/dataScience/anaconda3/lib/python3.11/site-packages/yfinance/utils.py:104\u001b[0m, in \u001b[0;36mlog_indent_decorator.<locals>.wrapper\u001b[0;34m(*args, **kwargs)\u001b[0m\n\u001b[1;32m    101\u001b[0m logger\u001b[38;5;241m.\u001b[39mdebug(\u001b[38;5;124mf\u001b[39m\u001b[38;5;124m'\u001b[39m\u001b[38;5;124mEntering \u001b[39m\u001b[38;5;132;01m{\u001b[39;00mfunc\u001b[38;5;241m.\u001b[39m\u001b[38;5;18m__name__\u001b[39m\u001b[38;5;132;01m}\u001b[39;00m\u001b[38;5;124m()\u001b[39m\u001b[38;5;124m'\u001b[39m)\n\u001b[1;32m    103\u001b[0m \u001b[38;5;28;01mwith\u001b[39;00m IndentationContext():\n\u001b[0;32m--> 104\u001b[0m     result \u001b[38;5;241m=\u001b[39m func(\u001b[38;5;241m*\u001b[39margs, \u001b[38;5;241m*\u001b[39m\u001b[38;5;241m*\u001b[39mkwargs)\n\u001b[1;32m    106\u001b[0m logger\u001b[38;5;241m.\u001b[39mdebug(\u001b[38;5;124mf\u001b[39m\u001b[38;5;124m'\u001b[39m\u001b[38;5;124mExiting \u001b[39m\u001b[38;5;132;01m{\u001b[39;00mfunc\u001b[38;5;241m.\u001b[39m\u001b[38;5;18m__name__\u001b[39m\u001b[38;5;132;01m}\u001b[39;00m\u001b[38;5;124m()\u001b[39m\u001b[38;5;124m'\u001b[39m)\n\u001b[1;32m    107\u001b[0m \u001b[38;5;28;01mreturn\u001b[39;00m result\n",
      "File \u001b[0;32m~/dataScience/anaconda3/lib/python3.11/site-packages/yfinance/multi.py:152\u001b[0m, in \u001b[0;36mdownload\u001b[0;34m(tickers, start, end, actions, threads, ignore_tz, group_by, auto_adjust, back_adjust, repair, keepna, progress, period, interval, prepost, proxy, rounding, timeout, session)\u001b[0m\n\u001b[1;32m    145\u001b[0m         _download_one_threaded(ticker, period\u001b[38;5;241m=\u001b[39mperiod, interval\u001b[38;5;241m=\u001b[39minterval,\n\u001b[1;32m    146\u001b[0m                                start\u001b[38;5;241m=\u001b[39mstart, end\u001b[38;5;241m=\u001b[39mend, prepost\u001b[38;5;241m=\u001b[39mprepost,\n\u001b[1;32m    147\u001b[0m                                actions\u001b[38;5;241m=\u001b[39mactions, auto_adjust\u001b[38;5;241m=\u001b[39mauto_adjust,\n\u001b[1;32m    148\u001b[0m                                back_adjust\u001b[38;5;241m=\u001b[39mback_adjust, repair\u001b[38;5;241m=\u001b[39mrepair, keepna\u001b[38;5;241m=\u001b[39mkeepna,\n\u001b[1;32m    149\u001b[0m                                progress\u001b[38;5;241m=\u001b[39m(progress \u001b[38;5;129;01mand\u001b[39;00m i \u001b[38;5;241m>\u001b[39m \u001b[38;5;241m0\u001b[39m), proxy\u001b[38;5;241m=\u001b[39mproxy,\n\u001b[1;32m    150\u001b[0m                                rounding\u001b[38;5;241m=\u001b[39mrounding, timeout\u001b[38;5;241m=\u001b[39mtimeout)\n\u001b[1;32m    151\u001b[0m     \u001b[38;5;28;01mwhile\u001b[39;00m \u001b[38;5;28mlen\u001b[39m(shared\u001b[38;5;241m.\u001b[39m_DFS) \u001b[38;5;241m<\u001b[39m \u001b[38;5;28mlen\u001b[39m(tickers):\n\u001b[0;32m--> 152\u001b[0m         _time\u001b[38;5;241m.\u001b[39msleep(\u001b[38;5;241m0.01\u001b[39m)\n\u001b[1;32m    153\u001b[0m \u001b[38;5;66;03m# download synchronously\u001b[39;00m\n\u001b[1;32m    154\u001b[0m \u001b[38;5;28;01melse\u001b[39;00m:\n\u001b[1;32m    155\u001b[0m     \u001b[38;5;28;01mfor\u001b[39;00m i, ticker \u001b[38;5;129;01min\u001b[39;00m \u001b[38;5;28menumerate\u001b[39m(tickers):\n",
      "\u001b[0;31mKeyboardInterrupt\u001b[0m: "
     ]
    }
   ],
   "source": [
    "stock_data_list = []\n",
    "\n",
    "# Iterate over each symbol\n",
    "for idx, symbol in enumerate(Symbols):  \n",
    "    # Print the symbol being downloaded\n",
    "    print(f\"{idx} : {symbol}\", sep=',', end=',', flush=True)  \n",
    "    \n",
    "    try:\n",
    "        # Download the stock price\n",
    "        stock = yf.download(symbol, start=start, end=end, progress=False)\n",
    "        \n",
    "        # Check if the stock data is not empty\n",
    "        if not stock.empty:\n",
    "            stock['Name'] = symbol\n",
    "            stock_data_list.append(stock)\n",
    "        else:\n",
    "            print(f\"Data for {symbol} is empty.\")\n",
    "    except Exception as e:\n",
    "        print(f\"Failed to download data for {symbol}: {e}\")\n",
    "\n",
    "# Concatenate all stock data into a final DataFrame\n",
    "stock_final = pd.concat(stock_data_list, ignore_index=True, sort=False)"
   ]
  },
  {
   "cell_type": "code",
   "execution_count": 24,
   "metadata": {},
   "outputs": [
    {
     "data": {
      "text/plain": [
       "array(['AAIT', 'AAL', 'AAME', 'AAOI', 'AAON', 'AAPL', 'AAXJ', 'ABCB',\n",
       "       'ABCO', 'ABIO', 'ACAD', 'ACET', 'ACFN', 'ACGL', 'ACHC', 'ACIW',\n",
       "       'ACLS', 'ACNB', 'ACST', 'ACTG', 'ACUR', 'ACWI', 'ACWX', 'ADBE',\n",
       "       'ADI', 'ADMA', 'ADP', 'ADRD', 'ADRE', 'ADRU', 'ADSK', 'ADTN',\n",
       "       'ADUS', 'ADXS', 'AEHR', 'AEIS', 'AEZS', 'AFMD', 'AGEN', 'AGIO',\n",
       "       'AGNC', 'AGNCP', 'AGND', 'AGRX', 'AGYS', 'AGZD', 'AIQ', 'AIRR',\n",
       "       'AIRT', 'AKAM', 'AKBA', 'ALCO', 'ALDX', 'ALGN', 'ALGT', 'ALIM',\n",
       "       'ALKS', 'ALLT', 'ALNY', 'ALOT', 'ALTR', 'AMAT', 'AMBA', 'AMBC',\n",
       "       'AMCF', 'AMCX', 'AMD', 'AMED', 'AMGN', 'AMKR', 'AMPH', 'AMRK',\n",
       "       'AMRN', 'AMSC', 'AMSF', 'AMSWA', 'AMTX', 'AMWD', 'AMZN', 'ANDE',\n",
       "       'ANGI', 'ANGO', 'ANIK', 'ANIP', 'ANSS', 'ANTH', 'ANY', 'AOSL',\n",
       "       'APDN', 'APEI', 'APOG', 'APTO', 'APWC', 'ARAY', 'ARCB', 'ARCC',\n",
       "       'ARDX', 'ARKR', 'ARLP', 'AROW', 'ARTNA', 'ARTW', 'ARWR', 'ASMB',\n",
       "       'ASML', 'ASPS', 'ASRV', 'ASTC', 'ASTE', 'ASTI', 'ASUR', 'ASYS',\n",
       "       'ATEC', 'ATLC', 'ATLO', 'ATNI', 'ATOS', 'ATRA', 'ATRC', 'ATRI',\n",
       "       'ATRO', 'ATSG', 'AUBN', 'AUDC', 'AUPH', 'AVAV', 'AVGO', 'AVNW',\n",
       "       'AWAY', 'AWRE', 'AXDX', 'AXGN', 'AXTI', 'AZPN', 'BANF', 'BANFP'],\n",
       "      dtype=object)"
      ]
     },
     "execution_count": 24,
     "metadata": {},
     "output_type": "execute_result"
    }
   ],
   "source": [
    "stock_final.Name.unique()"
   ]
  },
  {
   "cell_type": "code",
   "execution_count": 25,
   "metadata": {},
   "outputs": [
    {
     "data": {
      "text/plain": [
       "23258"
      ]
     },
     "execution_count": 25,
     "metadata": {},
     "output_type": "execute_result"
    }
   ],
   "source": [
    "len(stock_final)"
   ]
  },
  {
   "cell_type": "code",
   "execution_count": 26,
   "metadata": {},
   "outputs": [],
   "source": [
    "stock_final.to_excel('stock_final_11Oct2020.xlsx', index = False)"
   ]
  },
  {
   "cell_type": "code",
   "execution_count": 27,
   "metadata": {},
   "outputs": [
    {
     "data": {
      "text/plain": [
       "136"
      ]
     },
     "execution_count": 27,
     "metadata": {},
     "output_type": "execute_result"
    }
   ],
   "source": [
    "stock_final.Name.nunique()"
   ]
  },
  {
   "cell_type": "code",
   "execution_count": 28,
   "metadata": {},
   "outputs": [
    {
     "data": {
      "text/html": [
       "<div>\n",
       "<style scoped>\n",
       "    .dataframe tbody tr th:only-of-type {\n",
       "        vertical-align: middle;\n",
       "    }\n",
       "\n",
       "    .dataframe tbody tr th {\n",
       "        vertical-align: top;\n",
       "    }\n",
       "\n",
       "    .dataframe thead th {\n",
       "        text-align: right;\n",
       "    }\n",
       "</style>\n",
       "<table border=\"1\" class=\"dataframe\">\n",
       "  <thead>\n",
       "    <tr style=\"text-align: right;\">\n",
       "      <th></th>\n",
       "      <th>Open</th>\n",
       "      <th>High</th>\n",
       "      <th>Low</th>\n",
       "      <th>Close</th>\n",
       "      <th>Adj Close</th>\n",
       "      <th>Volume</th>\n",
       "      <th>Name</th>\n",
       "    </tr>\n",
       "    <tr>\n",
       "      <th>Date</th>\n",
       "      <th></th>\n",
       "      <th></th>\n",
       "      <th></th>\n",
       "      <th></th>\n",
       "      <th></th>\n",
       "      <th></th>\n",
       "      <th></th>\n",
       "    </tr>\n",
       "  </thead>\n",
       "  <tbody>\n",
       "    <tr>\n",
       "      <th>2020-02-03</th>\n",
       "      <td>0.084</td>\n",
       "      <td>0.085</td>\n",
       "      <td>0.084</td>\n",
       "      <td>0.084</td>\n",
       "      <td>0.084</td>\n",
       "      <td>128273</td>\n",
       "      <td>AAIT</td>\n",
       "    </tr>\n",
       "    <tr>\n",
       "      <th>2020-02-04</th>\n",
       "      <td>0.085</td>\n",
       "      <td>0.085</td>\n",
       "      <td>0.084</td>\n",
       "      <td>0.084</td>\n",
       "      <td>0.084</td>\n",
       "      <td>201361</td>\n",
       "      <td>AAIT</td>\n",
       "    </tr>\n",
       "    <tr>\n",
       "      <th>2020-02-05</th>\n",
       "      <td>0.085</td>\n",
       "      <td>0.085</td>\n",
       "      <td>0.083</td>\n",
       "      <td>0.084</td>\n",
       "      <td>0.084</td>\n",
       "      <td>258017</td>\n",
       "      <td>AAIT</td>\n",
       "    </tr>\n",
       "    <tr>\n",
       "      <th>2020-02-06</th>\n",
       "      <td>0.084</td>\n",
       "      <td>0.084</td>\n",
       "      <td>0.083</td>\n",
       "      <td>0.084</td>\n",
       "      <td>0.084</td>\n",
       "      <td>270726</td>\n",
       "      <td>AAIT</td>\n",
       "    </tr>\n",
       "    <tr>\n",
       "      <th>2020-02-10</th>\n",
       "      <td>0.085</td>\n",
       "      <td>0.087</td>\n",
       "      <td>0.085</td>\n",
       "      <td>0.086</td>\n",
       "      <td>0.086</td>\n",
       "      <td>262369</td>\n",
       "      <td>AAIT</td>\n",
       "    </tr>\n",
       "    <tr>\n",
       "      <th>2020-02-11</th>\n",
       "      <td>0.087</td>\n",
       "      <td>0.087</td>\n",
       "      <td>0.086</td>\n",
       "      <td>0.086</td>\n",
       "      <td>0.086</td>\n",
       "      <td>191151</td>\n",
       "      <td>AAIT</td>\n",
       "    </tr>\n",
       "    <tr>\n",
       "      <th>2020-02-12</th>\n",
       "      <td>0.086</td>\n",
       "      <td>0.086</td>\n",
       "      <td>0.084</td>\n",
       "      <td>0.085</td>\n",
       "      <td>0.085</td>\n",
       "      <td>339619</td>\n",
       "      <td>AAIT</td>\n",
       "    </tr>\n",
       "    <tr>\n",
       "      <th>2020-02-13</th>\n",
       "      <td>0.085</td>\n",
       "      <td>0.085</td>\n",
       "      <td>0.085</td>\n",
       "      <td>0.085</td>\n",
       "      <td>0.085</td>\n",
       "      <td>193097</td>\n",
       "      <td>AAIT</td>\n",
       "    </tr>\n",
       "    <tr>\n",
       "      <th>2020-02-18</th>\n",
       "      <td>0.085</td>\n",
       "      <td>0.085</td>\n",
       "      <td>0.084</td>\n",
       "      <td>0.085</td>\n",
       "      <td>0.085</td>\n",
       "      <td>346519</td>\n",
       "      <td>AAIT</td>\n",
       "    </tr>\n",
       "    <tr>\n",
       "      <th>2020-02-19</th>\n",
       "      <td>0.085</td>\n",
       "      <td>0.085</td>\n",
       "      <td>0.085</td>\n",
       "      <td>0.085</td>\n",
       "      <td>0.085</td>\n",
       "      <td>613380</td>\n",
       "      <td>AAIT</td>\n",
       "    </tr>\n",
       "  </tbody>\n",
       "</table>\n",
       "</div>"
      ],
      "text/plain": [
       "             Open   High    Low  Close  Adj Close  Volume  Name\n",
       "Date                                                           \n",
       "2020-02-03  0.084  0.085  0.084  0.084      0.084  128273  AAIT\n",
       "2020-02-04  0.085  0.085  0.084  0.084      0.084  201361  AAIT\n",
       "2020-02-05  0.085  0.085  0.083  0.084      0.084  258017  AAIT\n",
       "2020-02-06  0.084  0.084  0.083  0.084      0.084  270726  AAIT\n",
       "2020-02-10  0.085  0.087  0.085  0.086      0.086  262369  AAIT\n",
       "2020-02-11  0.087  0.087  0.086  0.086      0.086  191151  AAIT\n",
       "2020-02-12  0.086  0.086  0.084  0.085      0.085  339619  AAIT\n",
       "2020-02-13  0.085  0.085  0.085  0.085      0.085  193097  AAIT\n",
       "2020-02-18  0.085  0.085  0.084  0.085      0.085  346519  AAIT\n",
       "2020-02-19  0.085  0.085  0.085  0.085      0.085  613380  AAIT"
      ]
     },
     "execution_count": 28,
     "metadata": {},
     "output_type": "execute_result"
    }
   ],
   "source": [
    "stock_final.head(10)"
   ]
  },
  {
   "cell_type": "code",
   "execution_count": null,
   "metadata": {},
   "outputs": [],
   "source": []
  }
 ],
 "metadata": {
  "kernelspec": {
   "display_name": "Python 3 (ipykernel)",
   "language": "python",
   "name": "python3"
  },
  "language_info": {
   "codemirror_mode": {
    "name": "ipython",
    "version": 3
   },
   "file_extension": ".py",
   "mimetype": "text/x-python",
   "name": "python",
   "nbconvert_exporter": "python",
   "pygments_lexer": "ipython3",
   "version": "3.11.4"
  }
 },
 "nbformat": 4,
 "nbformat_minor": 4
}
